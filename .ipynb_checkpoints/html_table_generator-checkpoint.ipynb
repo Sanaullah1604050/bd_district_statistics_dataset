{
 "cells": [
  {
   "cell_type": "code",
   "execution_count": 2,
   "metadata": {},
   "outputs": [],
   "source": [
    "import glob\n",
    "import pandas as pd\n",
    "\n",
    "from pprint import pprint"
   ]
  },
  {
   "cell_type": "code",
   "execution_count": 3,
   "metadata": {},
   "outputs": [
    {
     "name": "stdout",
     "output_type": "stream",
     "text": [
      "['./cleaned_CSVs\\\\Bagerhat', './cleaned_CSVs\\\\Bandarban', './cleaned_CSVs\\\\Barguna', './cleaned_CSVs\\\\Barisal', './cleaned_CSVs\\\\Bhola', './cleaned_CSVs\\\\Bogra', './cleaned_CSVs\\\\B_Baria', './cleaned_CSVs\\\\Chandpur', './cleaned_CSVs\\\\ChapaiNawabganj', './cleaned_CSVs\\\\Chittagong']\n"
     ]
    }
   ],
   "source": [
    "csv_dir = \"./cleaned_CSVs/*\"\n",
    "\n",
    "zilas = glob.glob(csv_dir)\n",
    "\n",
    "print(zilas[:10])"
   ]
  },
  {
   "cell_type": "code",
   "execution_count": 6,
   "metadata": {},
   "outputs": [
    {
     "name": "stdout",
     "output_type": "stream",
     "text": [
      "HTML file created: ./CSVs_4\\Bagerhat/tables.html\n",
      "HTML file created: ./CSVs_4\\Bandarban/tables.html\n",
      "HTML file created: ./CSVs_4\\Barguna/tables.html\n",
      "HTML file created: ./CSVs_4\\Barisal/tables.html\n",
      "HTML file created: ./CSVs_4\\Bhola/tables.html\n",
      "HTML file created: ./CSVs_4\\Bogra/tables.html\n",
      "HTML file created: ./CSVs_4\\B_Baria/tables.html\n",
      "HTML file created: ./CSVs_4\\Chandpur/tables.html\n",
      "HTML file created: ./CSVs_4\\ChapaiNawabganj/tables.html\n",
      "HTML file created: ./CSVs_4\\Chittagong/tables.html\n",
      "HTML file created: ./CSVs_4\\Chuadanga/tables.html\n",
      "HTML file created: ./CSVs_4\\Comilla/tables.html\n",
      "HTML file created: ./CSVs_4\\CoxsBazar/tables.html\n",
      "HTML file created: ./CSVs_4\\Dhaka/tables.html\n",
      "HTML file created: ./CSVs_4\\Dinajpur/tables.html\n",
      "HTML file created: ./CSVs_4\\Faridpur/tables.html\n",
      "HTML file created: ./CSVs_4\\Feni/tables.html\n",
      "HTML file created: ./CSVs_4\\Gaibandha/tables.html\n",
      "HTML file created: ./CSVs_4\\Gazipur/tables.html\n",
      "HTML file created: ./CSVs_4\\Gopalgonj/tables.html\n",
      "HTML file created: ./CSVs_4\\Habiganj/tables.html\n",
      "HTML file created: ./CSVs_4\\Jamalpur/tables.html\n",
      "HTML file created: ./CSVs_4\\Jessore/tables.html\n",
      "HTML file created: ./CSVs_4\\Jhalkathi/tables.html\n",
      "HTML file created: ./CSVs_4\\Jhinaidaha/tables.html\n",
      "HTML file created: ./CSVs_4\\Joypurhat/tables.html\n",
      "HTML file created: ./CSVs_4\\Khagrachori/tables.html\n",
      "HTML file created: ./CSVs_4\\Khulna/tables.html\n",
      "HTML file created: ./CSVs_4\\Kishoreganj/tables.html\n",
      "HTML file created: ./CSVs_4\\Kurigram/tables.html\n",
      "HTML file created: ./CSVs_4\\Kushtia/tables.html\n",
      "HTML file created: ./CSVs_4\\Lalmonirhat/tables.html\n",
      "HTML file created: ./CSVs_4\\Laxmipur/tables.html\n",
      "HTML file created: ./CSVs_4\\Madaripur/tables.html\n",
      "HTML file created: ./CSVs_4\\Magura/tables.html\n",
      "HTML file created: ./CSVs_4\\Manikganj/tables.html\n",
      "HTML file created: ./CSVs_4\\Meherpur/tables.html\n",
      "HTML file created: ./CSVs_4\\Moulvibazar/tables.html\n",
      "HTML file created: ./CSVs_4\\Munshiganj/tables.html\n",
      "HTML file created: ./CSVs_4\\Mymensingh/tables.html\n",
      "HTML file created: ./CSVs_4\\Naogaon/tables.html\n",
      "HTML file created: ./CSVs_4\\Narail/tables.html\n",
      "HTML file created: ./CSVs_4\\Narayanganj/tables.html\n",
      "HTML file created: ./CSVs_4\\Narsingdi/tables.html\n",
      "HTML file created: ./CSVs_4\\Natore/tables.html\n",
      "HTML file created: ./CSVs_4\\Netrokona/tables.html\n",
      "HTML file created: ./CSVs_4\\Nilphamari/tables.html\n",
      "HTML file created: ./CSVs_4\\Noakhali/tables.html\n",
      "HTML file created: ./CSVs_4\\Pabna/tables.html\n",
      "HTML file created: ./CSVs_4\\Panchagor/tables.html\n",
      "HTML file created: ./CSVs_4\\Patuakhali/tables.html\n",
      "HTML file created: ./CSVs_4\\Pirojpur/tables.html\n",
      "HTML file created: ./CSVs_4\\Rajbari/tables.html\n",
      "HTML file created: ./CSVs_4\\Rajshahi/tables.html\n",
      "HTML file created: ./CSVs_4\\Rangamati/tables.html\n",
      "HTML file created: ./CSVs_4\\Rangpur/tables.html\n",
      "HTML file created: ./CSVs_4\\Satkhira/tables.html\n",
      "HTML file created: ./CSVs_4\\Shariatpur/tables.html\n",
      "HTML file created: ./CSVs_4\\Sherpur/tables.html\n",
      "HTML file created: ./CSVs_4\\Sirajganj/tables.html\n",
      "HTML file created: ./CSVs_4\\Sunamganj/tables.html\n",
      "HTML file created: ./CSVs_4\\Sylhet/tables.html\n",
      "HTML file created: ./CSVs_4\\Tangail/tables.html\n",
      "HTML file created: ./CSVs_4\\Thakurgaon/tables.html\n"
     ]
    }
   ],
   "source": [
    "for zila in zilas:\n",
    "    zila_name = zila.split('\\\\')[-1]\n",
    "    \n",
    "    output_html = \"\"\"\n",
    "        <head>\n",
    "          <style>\n",
    "          table {\n",
    "            font-family: Arial, Helvetica, sans-serif;\n",
    "            border-collapse: collapse;\n",
    "            width: 100%;\n",
    "          }\n",
    "\n",
    "          table td, table th {\n",
    "            border: 1px solid #ddd;\n",
    "            padding: 8px;\n",
    "          }\n",
    "\n",
    "          table tr:nth-child(even){background-color: #f2f2f2;}\n",
    "\n",
    "          #customers tr:hover {background-color: #ddd;}\n",
    "\n",
    "          table th {\n",
    "            padding-top: 12px;\n",
    "            padding-bottom: 12px;\n",
    "            text-align: left;\n",
    "            background-color: #4CAF50;\n",
    "            color: white;\n",
    "          }\n",
    "          </style>\n",
    "        </head>\n",
    "        <body>\"\"\"\n",
    "    \n",
    "    output_html +=  \"<h1>{}</h1><br>\".format(zila_name)\n",
    "    \n",
    "#     print('\\n\\n\\nZila:', zila.split('\\\\')[-1])\n",
    "    for f in glob.glob(zila + '/*.csv'):\n",
    "        df = pd.read_csv(f, index_col=0)\n",
    "        \n",
    "        folder_name = f.replace('CSVs_4', 'cleaned_CSVs')\n",
    "        \n",
    "        output_html += '\\n<br>\\n' + \\\n",
    "                        '<h2>{}</h2>\\n'.format(folder_name) + \\\n",
    "                        df.to_html(na_rep='')\n",
    "    \n",
    "    output_html += \"</body>\"\n",
    "    \n",
    "    \n",
    "    export_dir = zila + \"/tables.html\"\n",
    "    with open(export_dir, \"w\", encoding='utf-8') as f:\n",
    "        f.write(output_html)\n",
    "        print(\"HTML file created:\", export_dir)"
   ]
  }
 ],
 "metadata": {
  "kernelspec": {
   "display_name": "Python 3",
   "language": "python",
   "name": "python3"
  },
  "language_info": {
   "codemirror_mode": {
    "name": "ipython",
    "version": 3
   },
   "file_extension": ".py",
   "mimetype": "text/x-python",
   "name": "python",
   "nbconvert_exporter": "python",
   "pygments_lexer": "ipython3",
   "version": "3.8.5"
  }
 },
 "nbformat": 4,
 "nbformat_minor": 4
}
